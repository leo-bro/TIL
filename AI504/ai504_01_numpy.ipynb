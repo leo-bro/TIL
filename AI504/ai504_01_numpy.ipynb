{
  "cells": [
    {
      "cell_type": "code",
      "execution_count": 10,
      "metadata": {
        "id": "acv7TZrR9_A3"
      },
      "outputs": [],
      "source": [
        "def print_obj(obj, name):\n",
        "    print(\"%s:\\n%s\\n\" % (name, obj))\n",
        "\n",
        "def check_each(a, b):\n",
        "    return (a == b).astype('bool')\n",
        "\n",
        "def check_mean(a, b):\n",
        "    return np.mean(a == b).astype('bool')"
      ]
    },
    {
      "cell_type": "code",
      "execution_count": 11,
      "metadata": {
        "id": "76vgPM5H9_A3"
      },
      "outputs": [],
      "source": [
        "import numpy as np"
      ]
    },
    {
      "cell_type": "code",
      "source": [],
      "metadata": {
        "id": "g-cl65ZZ4MvQ"
      },
      "execution_count": 11,
      "outputs": []
    },
    {
      "cell_type": "markdown",
      "metadata": {
        "id": "ZN6-I32P9_A3"
      },
      "source": [
        "### Scalars, Vectors, Matrices"
      ]
    },
    {
      "cell_type": "code",
      "execution_count": 12,
      "metadata": {
        "id": "tkslIj3J9_A4"
      },
      "outputs": [],
      "source": [
        "a = np.array(1.)\n",
        "b = np.array([1., 2., 3.])\n",
        "c = np.array([[1., 2., 3.], [4., 5., 6.]])"
      ]
    },
    {
      "cell_type": "code",
      "execution_count": 13,
      "metadata": {
        "colab": {
          "base_uri": "https://localhost:8080/"
        },
        "id": "YMBB4zCT9_A4",
        "outputId": "ba5f4a2d-5e77-4ce8-bd53-ef33e048af70"
      },
      "outputs": [
        {
          "output_type": "stream",
          "name": "stdout",
          "text": [
            "a:\n",
            "1.0\n",
            "\n",
            "b:\n",
            "[1. 2. 3.]\n",
            "\n",
            "c:\n",
            "[[1. 2. 3.]\n",
            " [4. 5. 6.]]\n",
            "\n"
          ]
        }
      ],
      "source": [
        "print_obj(a, \"a\")\n",
        "print_obj(b, \"b\")\n",
        "print_obj(c, \"c\")"
      ]
    },
    {
      "cell_type": "code",
      "execution_count": 14,
      "metadata": {
        "colab": {
          "base_uri": "https://localhost:8080/"
        },
        "id": "wh5Kdy6Y9_A4",
        "outputId": "01d794cc-a0f3-4b5b-af03-b1b871866450"
      },
      "outputs": [
        {
          "output_type": "stream",
          "name": "stdout",
          "text": [
            "a.ndim:\n",
            "0\n",
            "\n",
            "b.ndim:\n",
            "1\n",
            "\n",
            "c.ndim:\n",
            "2\n",
            "\n"
          ]
        }
      ],
      "source": [
        "print_obj(a.ndim, \"a.ndim\")\n",
        "print_obj(b.ndim, \"b.ndim\")\n",
        "print_obj(c.ndim, \"c.ndim\")"
      ]
    },
    {
      "cell_type": "code",
      "execution_count": 15,
      "metadata": {
        "colab": {
          "base_uri": "https://localhost:8080/"
        },
        "id": "tLmxhfhb9_A4",
        "outputId": "bbc6bd7c-ad40-4de3-c5a8-44d84364bd25"
      },
      "outputs": [
        {
          "output_type": "stream",
          "name": "stdout",
          "text": [
            "a.shape:\n",
            "()\n",
            "\n",
            "b.shape:\n",
            "(3,)\n",
            "\n",
            "c.shape:\n",
            "(2, 3)\n",
            "\n"
          ]
        }
      ],
      "source": [
        "print_obj(a.shape, \"a.shape\")\n",
        "print_obj(b.shape, \"b.shape\")\n",
        "print_obj(c.shape, \"c.shape\")"
      ]
    },
    {
      "cell_type": "markdown",
      "metadata": {
        "id": "4GQ3Q2Jh9_A4"
      },
      "source": [
        "### Tensors (N-dimensional array)"
      ]
    },
    {
      "cell_type": "code",
      "execution_count": 16,
      "metadata": {
        "id": "dCUSWNqE9_A4"
      },
      "outputs": [],
      "source": [
        "d = np.array([[[1., 2., 3.], [4., 5., 6.]], [[7., 8., 9.], [10., 11., 12.]]])\n",
        "e = np.array([[[[1., 2., 3.], [1., 2., 3.]], [[4., 5., 6.], [4., 5., 6.]]],\n",
        "              [[[7., 8., 9.], [7., 8., 9.]], [[10., 11., 12.], [10., 11., 12.]]]])"
      ]
    },
    {
      "cell_type": "code",
      "execution_count": 17,
      "metadata": {
        "colab": {
          "base_uri": "https://localhost:8080/"
        },
        "id": "YkY8rgw59_A4",
        "outputId": "884d2dbc-96a9-44de-8925-58ed696a2c03"
      },
      "outputs": [
        {
          "output_type": "stream",
          "name": "stdout",
          "text": [
            "d:\n",
            "[[[ 1.  2.  3.]\n",
            "  [ 4.  5.  6.]]\n",
            "\n",
            " [[ 7.  8.  9.]\n",
            "  [10. 11. 12.]]]\n",
            "\n",
            "d.ndim:\n",
            "3\n",
            "\n",
            "d.shape:\n",
            "(2, 2, 3)\n",
            "\n",
            "e:\n",
            "[[[[ 1.  2.  3.]\n",
            "   [ 1.  2.  3.]]\n",
            "\n",
            "  [[ 4.  5.  6.]\n",
            "   [ 4.  5.  6.]]]\n",
            "\n",
            "\n",
            " [[[ 7.  8.  9.]\n",
            "   [ 7.  8.  9.]]\n",
            "\n",
            "  [[10. 11. 12.]\n",
            "   [10. 11. 12.]]]]\n",
            "\n",
            "e.ndim:\n",
            "4\n",
            "\n",
            "e.shape:\n",
            "(2, 2, 2, 3)\n",
            "\n"
          ]
        }
      ],
      "source": [
        "print_obj(d, \"d\")\n",
        "print_obj(d.ndim, \"d.ndim\")\n",
        "print_obj(d.shape, \"d.shape\")\n",
        "\n",
        "print_obj(e, \"e\")\n",
        "print_obj(e.ndim, \"e.ndim\")\n",
        "print_obj(e.shape, \"e.shape\")"
      ]
    },
    {
      "cell_type": "code",
      "execution_count": 18,
      "metadata": {
        "colab": {
          "base_uri": "https://localhost:8080/"
        },
        "id": "FLOim-qm9_A4",
        "outputId": "54848134-4261-4ae7-eeaa-651b3c985d03"
      },
      "outputs": [
        {
          "output_type": "stream",
          "name": "stdout",
          "text": [
            "dim:\n",
            "3\n",
            "\n"
          ]
        }
      ],
      "source": [
        "# Quiz: What is the shape of [[[1], [2], [3]], [[4], [5], [6]]]?\n",
        "a = np.array([[[1], [2], [3]], [[4], [5], [6]]])\n",
        "print_obj(a.ndim,\"dim\")"
      ]
    },
    {
      "cell_type": "markdown",
      "metadata": {
        "id": "wbXkV8Du9_A5"
      },
      "source": [
        "### Defining Numpy arrays"
      ]
    },
    {
      "cell_type": "code",
      "execution_count": 19,
      "metadata": {
        "colab": {
          "base_uri": "https://localhost:8080/"
        },
        "id": "yMz0D53K9_A5",
        "outputId": "d697b506-ba40-4a37-d472-60465523c702"
      },
      "outputs": [
        {
          "output_type": "execute_result",
          "data": {
            "text/plain": [
              "array([1., 1., 1., 1., 1., 1., 1., 1., 1., 1.])"
            ]
          },
          "metadata": {},
          "execution_count": 19
        }
      ],
      "source": [
        "a = np.ones(10)\n",
        "a"
      ]
    },
    {
      "cell_type": "code",
      "execution_count": 20,
      "metadata": {
        "colab": {
          "base_uri": "https://localhost:8080/"
        },
        "id": "j50jQi5p9_A5",
        "outputId": "788cdecd-4357-4ba8-b16c-4bac30935379"
      },
      "outputs": [
        {
          "output_type": "execute_result",
          "data": {
            "text/plain": [
              "array([[0., 0., 0., 0., 0.],\n",
              "       [0., 0., 0., 0., 0.]])"
            ]
          },
          "metadata": {},
          "execution_count": 20
        }
      ],
      "source": [
        "a = np.zeros((2, 5))\n",
        "a"
      ]
    },
    {
      "cell_type": "code",
      "execution_count": 21,
      "metadata": {
        "colab": {
          "base_uri": "https://localhost:8080/"
        },
        "id": "1bI-TaYe9_A5",
        "outputId": "72a1037b-1c78-49a6-ac59-029fb23cb0a3"
      },
      "outputs": [
        {
          "output_type": "execute_result",
          "data": {
            "text/plain": [
              "array([[5, 5, 5, 5, 5],\n",
              "       [5, 5, 5, 5, 5]])"
            ]
          },
          "metadata": {},
          "execution_count": 21
        }
      ],
      "source": [
        "a = np.full((2,5), 5)\n",
        "a"
      ]
    },
    {
      "cell_type": "code",
      "execution_count": 22,
      "metadata": {
        "colab": {
          "base_uri": "https://localhost:8080/"
        },
        "id": "u1CIiajh9_A5",
        "outputId": "60a74e86-ceae-40f2-9d89-bc34a30d4187"
      },
      "outputs": [
        {
          "output_type": "execute_result",
          "data": {
            "text/plain": [
              "array([[[0.70317349, 0.98326848, 0.88207352, 0.79721043],\n",
              "        [0.57538737, 0.17138044, 0.10968847, 0.4744544 ],\n",
              "        [0.29125652, 0.9169675 , 0.24885767, 0.40654833]],\n",
              "\n",
              "       [[0.94886548, 0.47407346, 0.82147653, 0.1415548 ],\n",
              "        [0.25335328, 0.63636621, 0.92272334, 0.94383567],\n",
              "        [0.54175793, 0.31790116, 0.08264268, 0.22638941]]])"
            ]
          },
          "metadata": {},
          "execution_count": 22
        }
      ],
      "source": [
        "a = np.random.random((2, 3, 4))\n",
        "a"
      ]
    },
    {
      "cell_type": "code",
      "execution_count": 23,
      "metadata": {
        "colab": {
          "base_uri": "https://localhost:8080/"
        },
        "id": "q-NiUwgD9_A5",
        "outputId": "c06c4ba7-31cd-46d2-daeb-34b27a039343"
      },
      "outputs": [
        {
          "output_type": "execute_result",
          "data": {
            "text/plain": [
              "array([0, 1, 2, 3, 4, 5, 6, 7, 8, 9])"
            ]
          },
          "metadata": {},
          "execution_count": 23
        }
      ],
      "source": [
        "a = np.arange(10)\n",
        "a"
      ]
    },
    {
      "cell_type": "code",
      "execution_count": 24,
      "metadata": {
        "colab": {
          "base_uri": "https://localhost:8080/"
        },
        "id": "TR1nUUdw9_A5",
        "outputId": "c678471d-9397-4bf7-eddf-0ce2f7d885d2"
      },
      "outputs": [
        {
          "output_type": "execute_result",
          "data": {
            "text/plain": [
              "array([0., 1., 2., 3., 4., 5., 6., 7., 8., 9.])"
            ]
          },
          "metadata": {},
          "execution_count": 24
        }
      ],
      "source": [
        "a = np.arange(10).astype(float)\n",
        "a"
      ]
    },
    {
      "cell_type": "code",
      "execution_count": 25,
      "metadata": {
        "colab": {
          "base_uri": "https://localhost:8080/"
        },
        "id": "uthl1VxR9_A5",
        "outputId": "047ff5a5-bfee-4d54-9ef5-45093bd9fe29"
      },
      "outputs": [
        {
          "output_type": "execute_result",
          "data": {
            "text/plain": [
              "array([[0, 1],\n",
              "       [2, 3],\n",
              "       [4, 5],\n",
              "       [6, 7],\n",
              "       [8, 9]])"
            ]
          },
          "metadata": {},
          "execution_count": 25
        }
      ],
      "source": [
        "a = np.arange(10).reshape((5,2))\n",
        "a"
      ]
    },
    {
      "cell_type": "code",
      "execution_count": 26,
      "metadata": {
        "colab": {
          "base_uri": "https://localhost:8080/"
        },
        "id": "zZP0kECC9_A5",
        "outputId": "89e946f3-6142-4ae3-d7ba-3a06f07e2b7c"
      },
      "outputs": [
        {
          "output_type": "execute_result",
          "data": {
            "text/plain": [
              "array([[[ 0.,  1.],\n",
              "        [ 2.,  3.],\n",
              "        [ 4.,  5.]],\n",
              "\n",
              "       [[ 6.,  7.],\n",
              "        [ 8.,  9.],\n",
              "        [10., 11.]],\n",
              "\n",
              "       [[12., 13.],\n",
              "        [14., 15.],\n",
              "        [16., 17.]],\n",
              "\n",
              "       [[18., 19.],\n",
              "        [20., 21.],\n",
              "        [22., 23.]]])"
            ]
          },
          "metadata": {},
          "execution_count": 26
        }
      ],
      "source": [
        "# Quiz: Create a 4-by-3-by-2 tensor filled with 0.0 to 23.0\n",
        "a = np.arange(24).astype(float).reshape((4,3,2))\n",
        "a"
      ]
    },
    {
      "cell_type": "markdown",
      "metadata": {
        "id": "Hf2dErHw9_A5"
      },
      "source": [
        "### Indexing & Slicing"
      ]
    },
    {
      "cell_type": "code",
      "execution_count": 27,
      "metadata": {
        "colab": {
          "base_uri": "https://localhost:8080/"
        },
        "id": "Vrjoa6Q79_A5",
        "outputId": "78251bff-b476-47be-cb5b-60da74550687"
      },
      "outputs": [
        {
          "output_type": "stream",
          "name": "stdout",
          "text": [
            "a:\n",
            "[0 1 2 3 4 5 6 7 8 9]\n",
            "\n",
            "a[0]:\n",
            "0\n",
            "\n",
            "a[1]:\n",
            "1\n",
            "\n",
            "a[-1]:\n",
            "9\n",
            "\n",
            "a[-3]:\n",
            "7\n",
            "\n",
            "a[0:10]:\n",
            "[0 1 2 3 4 5 6 7 8 9]\n",
            "\n",
            "a[0:]:\n",
            "[0 1 2 3 4 5 6 7 8 9]\n",
            "\n",
            "a[:10]:\n",
            "[0 1 2 3 4 5 6 7 8 9]\n",
            "\n",
            "a[:]:\n",
            "[0 1 2 3 4 5 6 7 8 9]\n",
            "\n",
            "a[7:]:\n",
            "[7 8 9]\n",
            "\n",
            "a[:5]:\n",
            "[0 1 2 3 4]\n",
            "\n",
            "a[2:5]:\n",
            "[2 3 4]\n",
            "\n",
            "a[-4:]:\n",
            "[6 7 8 9]\n",
            "\n",
            "a[-8:]:\n",
            "[2 3 4 5 6 7 8 9]\n",
            "\n",
            "a[0:10:2]:\n",
            "[0 2 4 6 8]\n",
            "\n",
            "a[0:10:3]:\n",
            "[0 3 6 9]\n",
            "\n",
            "a[2:6:3]:\n",
            "[2 5]\n",
            "\n",
            "a[::-1]:\n",
            "[9 8 7 6 5 4 3 2 1 0]\n",
            "\n",
            "a[8:5:-1]:\n",
            "[8 7 6]\n",
            "\n",
            "a[8:5]:\n",
            "[]\n",
            "\n",
            "a:\n",
            "[9 6 3]\n",
            "\n"
          ]
        }
      ],
      "source": [
        "# Indexing and slicing a vector\n",
        "a = np.arange(10)\n",
        "print_obj(a, \"a\")\n",
        "\n",
        "print_obj(a[0], \"a[0]\")\n",
        "print_obj(a[1], \"a[1]\")\n",
        "print_obj(a[-1], \"a[-1]\")\n",
        "print_obj(a[-3], \"a[-3]\")\n",
        "\n",
        "print_obj(a[0:10], \"a[0:10]\")\n",
        "print_obj(a[0:], \"a[0:]\")\n",
        "print_obj(a[:10], \"a[:10]\")\n",
        "print_obj(a[:], \"a[:]\")\n",
        "\n",
        "print_obj(a[7:], \"a[7:]\")\n",
        "print_obj(a[:5], \"a[:5]\")\n",
        "print_obj(a[2:5], \"a[2:5]\")\n",
        "\n",
        "# Quiz: What is a[-4:]?\n",
        "print_obj(a[-4:],\"a[-4:]\")\n",
        "# Quiz: What is a[:-8]?\n",
        "print_obj(a[-8:],\"a[-8:]\")\n",
        "\n",
        "print_obj(a[0:10:2], \"a[0:10:2]\")\n",
        "print_obj(a[0:10:3], \"a[0:10:3]\")\n",
        "print_obj(a[2:6:3], \"a[2:6:3]\")\n",
        "\n",
        "print_obj(a[::-1], \"a[::-1]\")\n",
        "print_obj(a[8:5:-1], \"a[8:5:-1]\")\n",
        "print_obj(a[8:5], \"a[8:5]\")\n",
        "\n",
        "# Quiz: Create [9, 6, 3] using a.\n",
        "print_obj(a[-1:0:-3],\"a\")"
      ]
    },
    {
      "cell_type": "code",
      "execution_count": 28,
      "metadata": {
        "colab": {
          "base_uri": "https://localhost:8080/"
        },
        "id": "V_X1oyQs9_A5",
        "outputId": "c66eef42-7b4b-46c7-a221-78bc5c81d8d6"
      },
      "outputs": [
        {
          "output_type": "stream",
          "name": "stdout",
          "text": [
            "a:\n",
            "[[0 1 2]\n",
            " [3 4 5]\n",
            " [6 7 8]]\n",
            "\n",
            "a[0][0]:\n",
            "0\n",
            "\n",
            "a[0,0]:\n",
            "0\n",
            "\n",
            "a[1,1]:\n",
            "4\n",
            "\n",
            "lastrow:\n",
            "[6 7 8]\n",
            "\n",
            "secondcol:\n",
            "[1 4 7]\n",
            "\n",
            "[8,5]:\n",
            "[8 5]\n",
            "\n"
          ]
        }
      ],
      "source": [
        "# Indexing a matrix\n",
        "a = np.arange(9).reshape((3,3))\n",
        "print_obj(a, \"a\")\n",
        "print_obj(a[0][0], \"a[0][0]\")\n",
        "print_obj(a[0,0], \"a[0,0]\")\n",
        "print_obj(a[1,1], \"a[1,1]\")\n",
        "\n",
        "# Quiz: How to access the last row?\n",
        "print_obj(a[-1,:],\"lastrow\")\n",
        "# Quiz: How to access the second column?\n",
        "print_obj(a[:,1],\"secondcol\")\n",
        "# Quiz: How to create [8, 5] using a?\n",
        "print_obj(a[1:3,-1][::-1],\"[8,5]\")"
      ]
    },
    {
      "cell_type": "code",
      "execution_count": 29,
      "metadata": {
        "colab": {
          "base_uri": "https://localhost:8080/"
        },
        "id": "5gVYrk4X9_A5",
        "outputId": "ac06dc2f-5362-4e7a-8638-77f21caf3c34"
      },
      "outputs": [
        {
          "output_type": "stream",
          "name": "stdout",
          "text": [
            "a:\n",
            "[[[ 0  1]\n",
            "  [ 2  3]\n",
            "  [ 4  5]]\n",
            "\n",
            " [[ 6  7]\n",
            "  [ 8  9]\n",
            "  [10 11]]\n",
            "\n",
            " [[12 13]\n",
            "  [14 15]\n",
            "  [16 17]]\n",
            "\n",
            " [[18 19]\n",
            "  [20 21]\n",
            "  [22 23]]]\n",
            "\n",
            "a[2, 1, 0]:\n",
            "14\n",
            "\n",
            "a[0]:\n",
            "[[0 1]\n",
            " [2 3]\n",
            " [4 5]]\n",
            "\n",
            "a[0,1]:\n",
            "[2 3]\n",
            "\n",
            "answer:\n",
            "[array([0, 2, 4]), array([ 6,  8, 10])]\n",
            "\n"
          ]
        }
      ],
      "source": [
        "# Indexing and slicing a 3D tensor\n",
        "a = np.arange(4*3*2).reshape((4, 3, 2))\n",
        "print_obj(a, \"a\")\n",
        "print_obj(a[2, 1, 0], \"a[2, 1, 0]\")\n",
        "\n",
        "# Quiz: What would be a[0]?\n",
        "print_obj(a[0],\"a[0]\")\n",
        "# Quiz: What would be a[0, 1]?\n",
        "print_obj(a[0,1],\"a[0,1]\")\n",
        "# Quiz: Create [[0, 2, 4], [6, 8, 10]]\n",
        "print_obj([a[0,:,0],a[1,:,0]],\"answer\")"
      ]
    },
    {
      "cell_type": "code",
      "execution_count": 31,
      "metadata": {
        "colab": {
          "base_uri": "https://localhost:8080/"
        },
        "id": "BUWOeVx59_A5",
        "outputId": "9e8b8c3b-5e3b-4473-97fe-587c68edeefb"
      },
      "outputs": [
        {
          "output_type": "stream",
          "name": "stdout",
          "text": [
            "a:\n",
            "[[0 1]\n",
            " [2 3]\n",
            " [4 5]]\n",
            "\n",
            "idx:\n",
            "[[ True False]\n",
            " [ True False]\n",
            " [ True False]]\n",
            "\n",
            "test:\n",
            "[3 4 5]\n",
            "\n"
          ]
        }
      ],
      "source": [
        "# Conditional indexing\n",
        "a = np.arange(3*2).reshape((3,2))\n",
        "print_obj(a, \"a\")\n",
        "\n",
        "idx = a % 2 == 0\n",
        "print_obj(idx, \"idx\")\n",
        "\n",
        "# Quiz: How would you create [3, 4, 5] using a?\n",
        "idx = a > 2\n",
        "print_obj(a[idx], 'test')"
      ]
    },
    {
      "cell_type": "code",
      "execution_count": 32,
      "metadata": {
        "colab": {
          "base_uri": "https://localhost:8080/"
        },
        "id": "I3_EQXTw9_A5",
        "outputId": "da17107c-f5b0-4f66-b45e-39549eb487fb"
      },
      "outputs": [
        {
          "output_type": "stream",
          "name": "stdout",
          "text": [
            "a[idx]:\n",
            "[0 2 3]\n",
            "\n"
          ]
        }
      ],
      "source": [
        "# Taking specific elements from a vector\n",
        "a = np.arange(10)\n",
        "idx = [0, 2, 3]\n",
        "print_obj(a[idx], \"a[idx]\")"
      ]
    },
    {
      "cell_type": "code",
      "execution_count": 33,
      "metadata": {
        "colab": {
          "base_uri": "https://localhost:8080/"
        },
        "id": "BmW8baNg9_A5",
        "outputId": "476f5e62-38f9-4af8-f4a8-6c93aafcbf49"
      },
      "outputs": [
        {
          "output_type": "stream",
          "name": "stdout",
          "text": [
            "a:\n",
            "[[ 0  1  2  3]\n",
            " [ 4  5  6  7]\n",
            " [ 8  9 10 11]\n",
            " [12 13 14 15]\n",
            " [16 17 18 19]\n",
            " [20 21 22 23]]\n",
            "\n",
            "a[idx]:\n",
            "[[ 0  2  3]\n",
            " [ 4  6  7]\n",
            " [ 8 10 11]\n",
            " [12 14 15]\n",
            " [16 18 19]\n",
            " [20 22 23]]\n",
            "\n",
            "a[idx]:\n",
            "[[ 0  1  2  3]\n",
            " [ 8  9 10 11]\n",
            " [12 13 14 15]]\n",
            "\n"
          ]
        }
      ],
      "source": [
        "# Taking specific elements from a tensor\n",
        "a = np.arange(24).reshape((6,4))\n",
        "print_obj(a, \"a\")\n",
        "\n",
        "print_obj(a[:,[0, 2, 3]], \"a[idx]\")\n",
        "print_obj(a[[0, 2, 3], :], \"a[idx]\")\n",
        "#idx = ((0,0,1,5),(1,2,0,3))\n",
        "#print_obj(a[idx], \"tuple indexing\")\n",
        "#idx = np.array([[0,0,1,5],[1,2,0,3]])\n",
        "#print_obj(a[idx], \"ndarray indexing\")"
      ]
    },
    {
      "cell_type": "markdown",
      "metadata": {
        "id": "s8hFvz8g9_A5"
      },
      "source": [
        "### Math Operations"
      ]
    },
    {
      "cell_type": "code",
      "execution_count": 34,
      "metadata": {
        "colab": {
          "base_uri": "https://localhost:8080/"
        },
        "id": "rmWM3tuU9_A5",
        "outputId": "4448f2fe-5bcb-483d-f22d-205b8da1a795"
      },
      "outputs": [
        {
          "output_type": "stream",
          "name": "stdout",
          "text": [
            "a:\n",
            "[[0 1]\n",
            " [2 3]\n",
            " [4 5]]\n",
            "\n",
            "b:\n",
            "[[1. 1.]\n",
            " [1. 1.]\n",
            " [1. 1.]]\n",
            "\n",
            "a+b:\n",
            "[[1. 2.]\n",
            " [3. 4.]\n",
            " [5. 6.]]\n",
            "\n",
            "a-b:\n",
            "[[-1.  0.]\n",
            " [ 1.  2.]\n",
            " [ 3.  4.]]\n",
            "\n",
            "a*b:\n",
            "[[0. 1.]\n",
            " [2. 3.]\n",
            " [4. 5.]]\n",
            "\n",
            "a/b:\n",
            "[[0. 1.]\n",
            " [2. 3.]\n",
            " [4. 5.]]\n",
            "\n"
          ]
        }
      ],
      "source": [
        "# Basic operations\n",
        "a = np.arange(6).reshape((3, 2))\n",
        "b = np.ones((3, 2))\n",
        "print_obj(a, \"a\")\n",
        "print_obj(b, \"b\")\n",
        "\n",
        "# +, -, *, /\n",
        "print_obj(a+b, \"a+b\")\n",
        "print_obj(a-b, \"a-b\")\n",
        "print_obj(a*b, \"a*b\")\n",
        "print_obj(a/b, \"a/b\")"
      ]
    },
    {
      "cell_type": "code",
      "execution_count": 41,
      "metadata": {
        "colab": {
          "base_uri": "https://localhost:8080/"
        },
        "id": "tcLjuALF9_A6",
        "outputId": "12d27714-9c2e-4bbd-f7c5-bfc154100427"
      },
      "outputs": [
        {
          "output_type": "stream",
          "name": "stdout",
          "text": [
            "a:\n",
            "[[0 1]\n",
            " [2 3]\n",
            " [4 5]]\n",
            "\n",
            "a.sum():\n",
            "15\n",
            "\n",
            "a.sum(axis=0):\n",
            "[6 9]\n",
            "\n",
            "a.sum(axis=1):\n",
            "[1 5 9]\n",
            "\n",
            "a.mean():\n",
            "2.5\n",
            "\n",
            "a.max():\n",
            "5\n",
            "\n",
            "a.min():\n",
            "0\n",
            "\n",
            "a:\n",
            "[[[ 0  1  2  3]\n",
            "  [ 4  5  6  7]\n",
            "  [ 8  9 10 11]]\n",
            "\n",
            " [[12 13 14 15]\n",
            "  [16 17 18 19]\n",
            "  [20 21 22 23]]]\n",
            "\n",
            "answer:\n",
            "46.0\n",
            "\n"
          ]
        }
      ],
      "source": [
        "# Unary operations\n",
        "a = np.arange(6).reshape((3,2))\n",
        "print_obj(a, \"a\")\n",
        "\n",
        "print_obj(a.sum(), \"a.sum()\")\n",
        "print_obj(a.sum(axis=0), \"a.sum(axis=0)\")\n",
        "print_obj(a.sum(axis=1), \"a.sum(axis=1)\")\n",
        "\n",
        "print_obj(a.mean(), \"a.mean()\")\n",
        "print_obj(a.max(), \"a.max()\")\n",
        "print_obj(a.min(), \"a.min()\")\n",
        "\n",
        "# Quiz: Given a = np.arange(24).reshape((2,3,4)), what is the mean of the sum w.r.t to the last dimension?\n",
        "\n",
        "a = np.arange(24).reshape((2,3,4))\n",
        "print_obj(a, \"a\")\n",
        "print_obj(a.sum(axis=-1).mean(), 'answer')"
      ]
    },
    {
      "cell_type": "code",
      "execution_count": 42,
      "metadata": {
        "colab": {
          "base_uri": "https://localhost:8080/"
        },
        "id": "xdYDnNpr9_A6",
        "outputId": "06f83807-ca58-44cc-ed99-4324db957e38"
      },
      "outputs": [
        {
          "output_type": "stream",
          "name": "stdout",
          "text": [
            "a:\n",
            "[0. 1. 2.]\n",
            "\n",
            "b:\n",
            "[1. 1. 1.]\n",
            "\n",
            "a dot b:\n",
            "3.0\n",
            "\n"
          ]
        }
      ],
      "source": [
        "# Vector dot product\n",
        "a = np.arange(3).astype('float')\n",
        "b = np.ones(3)\n",
        "print_obj(a, \"a\")\n",
        "print_obj(b, \"b\")\n",
        "\n",
        "print_obj(np.dot(a, b), \"a dot b\")"
      ]
    },
    {
      "cell_type": "code",
      "execution_count": 43,
      "metadata": {
        "colab": {
          "base_uri": "https://localhost:8080/"
        },
        "id": "mfNjlG2h9_A6",
        "outputId": "759150df-4e51-4809-bc98-ce5aa86fdca1"
      },
      "outputs": [
        {
          "output_type": "stream",
          "name": "stdout",
          "text": [
            "a:\n",
            "[[0 1]\n",
            " [2 3]\n",
            " [4 5]]\n",
            "\n",
            "b:\n",
            "[[1. 1. 1.]\n",
            " [1. 1. 1.]]\n",
            "\n",
            "a dot b:\n",
            "[[1. 1. 1.]\n",
            " [5. 5. 5.]\n",
            " [9. 9. 9.]]\n",
            "\n",
            "a @ b:\n",
            "[[1. 1. 1.]\n",
            " [5. 5. 5.]\n",
            " [9. 9. 9.]]\n",
            "\n"
          ]
        }
      ],
      "source": [
        "# Matrix dot product, matrix multiplication\n",
        "a = np.arange(6).reshape((3, 2))\n",
        "b = np.ones((2, 3))\n",
        "print_obj(a, \"a\")\n",
        "print_obj(b, \"b\")\n",
        "\n",
        "print_obj(np.dot(a,b), \"a dot b\")\n",
        "print_obj(a@b, \"a @ b\")"
      ]
    },
    {
      "cell_type": "code",
      "execution_count": 44,
      "metadata": {
        "colab": {
          "base_uri": "https://localhost:8080/"
        },
        "id": "jpLnBKsS9_A6",
        "outputId": "b2915610-6bba-4cde-b226-f5c5d1722c68"
      },
      "outputs": [
        {
          "output_type": "stream",
          "name": "stdout",
          "text": [
            "a:\n",
            "[[[ 0  1]\n",
            "  [ 2  3]\n",
            "  [ 4  5]]\n",
            "\n",
            " [[ 6  7]\n",
            "  [ 8  9]\n",
            "  [10 11]]\n",
            "\n",
            " [[12 13]\n",
            "  [14 15]\n",
            "  [16 17]]\n",
            "\n",
            " [[18 19]\n",
            "  [20 21]\n",
            "  [22 23]]]\n",
            "\n",
            "b:\n",
            "[[[1. 1. 1.]\n",
            "  [1. 1. 1.]]\n",
            "\n",
            " [[1. 1. 1.]\n",
            "  [1. 1. 1.]]\n",
            "\n",
            " [[1. 1. 1.]\n",
            "  [1. 1. 1.]]\n",
            "\n",
            " [[1. 1. 1.]\n",
            "  [1. 1. 1.]]]\n",
            "\n",
            "a dot b:\n",
            "(4, 3, 4, 3)\n",
            "\n",
            "a @ b:\n",
            "(4, 3, 3)\n",
            "\n",
            "a:\n",
            "[[[ 0  1]\n",
            "  [ 2  3]\n",
            "  [ 4  5]]\n",
            "\n",
            " [[ 6  7]\n",
            "  [ 8  9]\n",
            "  [10 11]]\n",
            "\n",
            " [[12 13]\n",
            "  [14 15]\n",
            "  [16 17]]\n",
            "\n",
            " [[18 19]\n",
            "  [20 21]\n",
            "  [22 23]]]\n",
            "\n",
            "b:\n",
            "[[1. 1. 1.]\n",
            " [1. 1. 1.]]\n",
            "\n",
            "a dot b:\n",
            "(4, 3, 3)\n",
            "\n",
            "a @ b:\n",
            "(4, 3, 3)\n",
            "\n"
          ]
        }
      ],
      "source": [
        "# Tensor dot product, tensor multiplication\n",
        "a = np.arange(24).reshape((4, 3, 2))\n",
        "b = np.ones((4, 2, 3))\n",
        "print_obj(a, \"a\")\n",
        "print_obj(b, \"b\")\n",
        "\n",
        "print_obj(np.dot(a,b).shape, \"a dot b\")\n",
        "print_obj((a@b).shape, \"a @ b\")\n",
        "\n",
        "# Quiz: what would happen if a.shape==(4,3,2) and b.shape==(2,3)?\n",
        "\n",
        "a = np.arange(24).reshape((4, 3, 2))\n",
        "b = np.ones((2, 3))\n",
        "print_obj(a, \"a\")\n",
        "print_obj(b, \"b\")\n",
        "\n",
        "print_obj(np.dot(a,b).shape, \"a dot b\")\n",
        "print_obj((a@b).shape, \"a @ b\")"
      ]
    },
    {
      "cell_type": "markdown",
      "metadata": {
        "id": "GLBLvm7O9_A6"
      },
      "source": [
        "### Shape Manipulation"
      ]
    },
    {
      "cell_type": "code",
      "execution_count": 49,
      "metadata": {
        "colab": {
          "base_uri": "https://localhost:8080/"
        },
        "id": "XCHYvbU59_A6",
        "outputId": "5f0fb2c1-8a46-4d05-ac30-2684e9adaf15"
      },
      "outputs": [
        {
          "output_type": "stream",
          "name": "stdout",
          "text": [
            "a:\n",
            "[[[ 0  1  2  3]\n",
            "  [ 4  5  6  7]\n",
            "  [ 8  9 10 11]]\n",
            "\n",
            " [[12 13 14 15]\n",
            "  [16 17 18 19]\n",
            "  [20 21 22 23]]]\n",
            "\n",
            "b:\n",
            "[[ 0  1  2  3]\n",
            " [ 4  5  6  7]\n",
            " [ 8  9 10 11]\n",
            " [12 13 14 15]\n",
            " [16 17 18 19]\n",
            " [20 21 22 23]]\n",
            "\n",
            "c:\n",
            "[[ 0  1  2  3]\n",
            " [ 4  5  6  7]\n",
            " [ 8  9 10 11]\n",
            " [12 13 14 15]\n",
            " [16 17 18 19]\n",
            " [20 21 22 23]]\n",
            "\n"
          ]
        }
      ],
      "source": [
        "# Reshapes\n",
        "a = np.arange(24).reshape((2, 3, 4))\n",
        "print_obj(a, \"a\")\n",
        "\n",
        "b = a.reshape((6, 4))\n",
        "print_obj(b, \"b\")\n",
        "\n",
        "c = a.reshape((6, -1))\n",
        "print_obj(c, \"c\")\n",
        "\n",
        "# Quiz: What would d=a.reshape((6, 4, -1)) look like?\n",
        "d = a.reshape((6,4,-1))\n",
        "\n",
        "# -1 means skipping remaining design"
      ]
    },
    {
      "cell_type": "code",
      "execution_count": 59,
      "metadata": {
        "colab": {
          "base_uri": "https://localhost:8080/"
        },
        "id": "KYzHOg6V9_A6",
        "outputId": "f81cb62d-cb43-4054-e1e0-0b1facaaf2a9"
      },
      "outputs": [
        {
          "output_type": "stream",
          "name": "stdout",
          "text": [
            "a:\n",
            "[0 1 2]\n",
            "\n",
            "a[:, None]:\n",
            "[[0]\n",
            " [1]\n",
            " [2]]\n",
            "\n",
            "reshape:\n",
            "[[[[1. 1. 1. 1.]]]\n",
            "\n",
            "\n",
            " [[[1. 1. 1. 1.]]]\n",
            "\n",
            "\n",
            " [[[1. 1. 1. 1.]]]]\n",
            "\n",
            "None:\n",
            "[[[[1. 1. 1. 1.]]]\n",
            "\n",
            "\n",
            " [[[1. 1. 1. 1.]]]\n",
            "\n",
            "\n",
            " [[[1. 1. 1. 1.]]]]\n",
            "\n"
          ]
        }
      ],
      "source": [
        "# Adding an extra dimension\n",
        "a = np.arange(3)\n",
        "print_obj(a, \"a\")\n",
        "\n",
        "print_obj(a[:, None], \"a[:, None]\")\n",
        "\n",
        "# Quiz: How to make a = np.ones((3,4)) into shape (3, 1, 1, 4) using reshape and None?\n",
        "a = np.ones((3,4))\n",
        "print_obj(a.reshape(3,1,1,4),'reshape')\n",
        "print_obj(a[:, None, None, :], 'None')\n",
        "\n"
      ]
    },
    {
      "cell_type": "code",
      "execution_count": 60,
      "metadata": {
        "colab": {
          "base_uri": "https://localhost:8080/"
        },
        "id": "hh-J1Z0p9_A6",
        "outputId": "f0c38b2d-a914-4d5b-debb-f8f3c51a624e"
      },
      "outputs": [
        {
          "output_type": "stream",
          "name": "stdout",
          "text": [
            "a:\n",
            "[[1. 1.]\n",
            " [1. 1.]\n",
            " [1. 1.]]\n",
            "\n",
            "b:\n",
            "[[0. 0.]\n",
            " [0. 0.]\n",
            " [0. 0.]]\n",
            "\n",
            "a,b vstack:\n",
            "[[1. 1.]\n",
            " [1. 1.]\n",
            " [1. 1.]\n",
            " [0. 0.]\n",
            " [0. 0.]\n",
            " [0. 0.]]\n",
            "\n",
            "a,b hstack:\n",
            "[[1. 1. 0. 0.]\n",
            " [1. 1. 0. 0.]\n",
            " [1. 1. 0. 0.]]\n",
            "\n",
            "a,b hstack:\n",
            "[[1. 1. 0. 0. 1. 1.]\n",
            " [1. 1. 0. 0. 1. 1.]\n",
            " [1. 1. 0. 0. 1. 1.]]\n",
            "\n",
            "a,b concat axis=0:\n",
            "[[1. 1.]\n",
            " [1. 1.]\n",
            " [1. 1.]\n",
            " [0. 0.]\n",
            " [0. 0.]\n",
            " [0. 0.]]\n",
            "\n",
            "a,b concat axis=1:\n",
            "[[1. 1. 0. 0.]\n",
            " [1. 1. 0. 0.]\n",
            " [1. 1. 0. 0.]]\n",
            "\n"
          ]
        }
      ],
      "source": [
        "# Stack, concatenation\n",
        "a = np.ones((3,2))\n",
        "b = np.zeros((3,2))\n",
        "print_obj(a, \"a\")\n",
        "print_obj(b, \"b\")\n",
        "\n",
        "print_obj(np.vstack([a, b]), \"a,b vstack\")\n",
        "print_obj(np.hstack([a, b]), \"a,b hstack\")\n",
        "print_obj(np.hstack([a, b, a]), \"a,b hstack\")\n",
        "\n",
        "print_obj(np.concatenate([a, b], axis=0), \"a,b concat axis=0\")\n",
        "print_obj(np.concatenate([a, b], axis=1), \"a,b concat axis=1\")\n",
        "\n",
        "# Quiz: Would concatenating two tensors whose shapes are (4, 3, 2) and (5, 4, 2) on axis=2 work?\n"
      ]
    },
    {
      "cell_type": "code",
      "execution_count": 61,
      "metadata": {
        "colab": {
          "base_uri": "https://localhost:8080/"
        },
        "id": "4XF0oE6Y9_A6",
        "outputId": "5797a5f2-db29-4e29-e784-f4b69e5a7b22"
      },
      "outputs": [
        {
          "output_type": "stream",
          "name": "stdout",
          "text": [
            "a:\n",
            "[[0 1]\n",
            " [2 3]\n",
            " [4 5]]\n",
            "\n",
            "a.T:\n",
            "[[0 2 4]\n",
            " [1 3 5]]\n",
            "\n"
          ]
        }
      ],
      "source": [
        "# Matrix transpose\n",
        "a = np.arange(6).reshape((3, 2))\n",
        "print_obj(a, \"a\")\n",
        "\n",
        "print_obj(a.T, \"a.T\")"
      ]
    },
    {
      "cell_type": "code",
      "execution_count": 62,
      "metadata": {
        "colab": {
          "base_uri": "https://localhost:8080/"
        },
        "id": "VYl-hWgn9_A6",
        "outputId": "58617ef8-2078-4e6f-82f0-1a23839f2c0c"
      },
      "outputs": [
        {
          "output_type": "stream",
          "name": "stdout",
          "text": [
            "a:\n",
            "[[[ 0  1]\n",
            "  [ 2  3]\n",
            "  [ 4  5]]\n",
            "\n",
            " [[ 6  7]\n",
            "  [ 8  9]\n",
            "  [10 11]]\n",
            "\n",
            " [[12 13]\n",
            "  [14 15]\n",
            "  [16 17]]\n",
            "\n",
            " [[18 19]\n",
            "  [20 21]\n",
            "  [22 23]]]\n",
            "\n",
            "Swap axis 1 and 2:\n",
            "[[[ 0  2  4]\n",
            "  [ 1  3  5]]\n",
            "\n",
            " [[ 6  8 10]\n",
            "  [ 7  9 11]]\n",
            "\n",
            " [[12 14 16]\n",
            "  [13 15 17]]\n",
            "\n",
            " [[18 20 22]\n",
            "  [19 21 23]]]\n",
            "\n",
            "b's shape:\n",
            "(4, 2, 3)\n",
            "\n",
            "Swap axis 0 and 1:\n",
            "[[[ 0  1]\n",
            "  [ 6  7]\n",
            "  [12 13]\n",
            "  [18 19]]\n",
            "\n",
            " [[ 2  3]\n",
            "  [ 8  9]\n",
            "  [14 15]\n",
            "  [20 21]]\n",
            "\n",
            " [[ 4  5]\n",
            "  [10 11]\n",
            "  [16 17]\n",
            "  [22 23]]]\n",
            "\n",
            "c's shape:\n",
            "(3, 4, 2)\n",
            "\n"
          ]
        }
      ],
      "source": [
        "# Tensor transpose\n",
        "a = np.arange(24).reshape((4, 3, 2))\n",
        "print_obj(a, \"a\")\n",
        "\n",
        "b = np.transpose(a, [0, 2, 1])\n",
        "print_obj(b, \"Swap axis 1 and 2\")\n",
        "print_obj(b.shape, \"b's shape\")\n",
        "\n",
        "c = np.transpose(a, [1, 0, 2])\n",
        "print_obj(c, \"Swap axis 0 and 1\")\n",
        "print_obj(c.shape, \"c's shape\")"
      ]
    },
    {
      "cell_type": "markdown",
      "metadata": {
        "id": "3VIyr_829_A-"
      },
      "source": [
        "### Broadcasting"
      ]
    },
    {
      "cell_type": "code",
      "execution_count": 63,
      "metadata": {
        "colab": {
          "base_uri": "https://localhost:8080/"
        },
        "id": "fKHKd1J29_A-",
        "outputId": "cafe9188-7a57-40df-ac7b-37f34b325ed8"
      },
      "outputs": [
        {
          "output_type": "stream",
          "name": "stdout",
          "text": [
            "a:\n",
            "[0 1 2]\n",
            "\n",
            "a+b:\n",
            "[2. 3. 4.]\n",
            "\n",
            "a-b:\n",
            "[-2. -1.  0.]\n",
            "\n",
            "a*b:\n",
            "[0. 2. 4.]\n",
            "\n",
            "a/b:\n",
            "[0.  0.5 1. ]\n",
            "\n"
          ]
        }
      ],
      "source": [
        "# Vector and scalar\n",
        "a = np.arange(3)\n",
        "b = 2.\n",
        "print_obj(a, \"a\")\n",
        "\n",
        "print_obj(a+b, \"a+b\")\n",
        "print_obj(a-b, \"a-b\")\n",
        "print_obj(a*b, \"a*b\")\n",
        "print_obj(a/b, \"a/b\")"
      ]
    },
    {
      "cell_type": "code",
      "execution_count": 67,
      "metadata": {
        "colab": {
          "base_uri": "https://localhost:8080/"
        },
        "id": "RPUIgngI9_A-",
        "outputId": "faa96812-5fdf-417f-efbf-74d22bdb8e39"
      },
      "outputs": [
        {
          "output_type": "stream",
          "name": "stdout",
          "text": [
            "a:\n",
            "[[0 1]\n",
            " [2 3]\n",
            " [4 5]]\n",
            "\n",
            "b:\n",
            "[1 2]\n",
            "\n",
            "a+b:\n",
            "[[1 3]\n",
            " [3 5]\n",
            " [5 7]]\n",
            "\n",
            "b:\n",
            "[[0]\n",
            " [1]]\n",
            "\n",
            "b:\n",
            "[[0 1]]\n",
            "\n"
          ]
        }
      ],
      "source": [
        "# Matrix and vector\n",
        "a = np.arange(6).reshape((3,2))\n",
        "b = np.arange(2).reshape(2) + 1\n",
        "print_obj(a, \"a\")\n",
        "print_obj(b, \"b\")\n",
        "\n",
        "print_obj(a+b, \"a+b\")\n",
        "\n",
        "# Quiz: What would happen if b were np.arange(2).reshape((2, 1))?\n",
        "# How about np.arange(2).reshape((1, 2))?"
      ]
    },
    {
      "cell_type": "code",
      "execution_count": 72,
      "metadata": {
        "colab": {
          "base_uri": "https://localhost:8080/"
        },
        "id": "a2zTUJuo9_A-",
        "outputId": "82f18d85-adbb-4459-aa1a-bf8506485ac2"
      },
      "outputs": [
        {
          "output_type": "stream",
          "name": "stdout",
          "text": [
            "a:\n",
            "[[[ 0  1]\n",
            "  [ 2  3]\n",
            "  [ 4  5]]\n",
            "\n",
            " [[ 6  7]\n",
            "  [ 8  9]\n",
            "  [10 11]]]\n",
            "\n",
            "b:\n",
            "[[0 1]\n",
            " [2 3]\n",
            " [4 5]]\n",
            "\n",
            "a+b:\n",
            "[[[ 0  2]\n",
            "  [ 4  6]\n",
            "  [ 8 10]]\n",
            "\n",
            " [[ 6  8]\n",
            "  [10 12]\n",
            "  [14 16]]]\n",
            "\n",
            "b:\n",
            "[[[0 1]\n",
            "  [2 3]\n",
            "  [4 5]]]\n",
            "\n"
          ]
        },
        {
          "output_type": "execute_result",
          "data": {
            "text/plain": [
              "(2, 3, 2)"
            ]
          },
          "metadata": {},
          "execution_count": 72
        }
      ],
      "source": [
        "# Tensor and matrix\n",
        "a = np.arange(12).reshape((2,3,2))\n",
        "b = np.arange(6).reshape((3,2))\n",
        "print_obj(a, \"a\")\n",
        "print_obj(b, \"b\")\n",
        "\n",
        "print_obj(a+b, \"a+b\")\n",
        "\n",
        "#Quiz: How can we use None to do a+b?\n",
        "print_obj(b[None,:],'b')\n",
        "(a+b).shape"
      ]
    },
    {
      "cell_type": "markdown",
      "metadata": {
        "id": "iUGGuQBk9_A-"
      },
      "source": [
        "### Final Quiz"
      ]
    },
    {
      "cell_type": "code",
      "execution_count": 114,
      "metadata": {
        "id": "e5EgPxww9_A-"
      },
      "outputs": [],
      "source": [
        "def sigmoid(x):\n",
        "    return 1./(1. + np.exp(-x))\n",
        "\n",
        "# Define a function that, given M of shape (m,n) and W of shape (4n, n), executes the following:\n",
        "# - Take the first half rows of M\n",
        "# - Take the second half rows of M\n",
        "# - Take the odd-numbered rows of M\n",
        "# - Take the even-numbered rows of M\n",
        "# - Append them horizontally in the listed order so that you obtain a matrix X of shape (?, 4n)\n",
        "# - Linearly transform X with W so that you obtain a matrix Y of shape (?, ?)\n",
        "# - Put Y through the sigmoid function\n",
        "# - Obtain the sum of the row-wise mean\n",
        "\n",
        "def foo(M, W):\n",
        "    (m, n) = M.shape\n",
        "    fr = M[:int(m/2)]\n",
        "    sr = M[int(m/2):]\n",
        "    oddr = M[1::2]\n",
        "    evenr = M[::2]\n",
        "    X = np.concatenate([fr,sr,oddr,evenr], axis=1)\n",
        "    Y = np.dot(X,W)\n",
        "    sigY = sigmoid(Y)\n",
        "\n",
        "    return sigY.mean(axis=0).sum()"
      ]
    },
    {
      "cell_type": "code",
      "source": [
        "M = np.arange(12).reshape(4,3)\n",
        "W = np.arange(48).reshape(12,4)\n",
        "m, n = M.shape\n",
        "a = M[:int(m/2)]\n",
        "b = M[int(m/2):]\n",
        "c = M[1::2]\n",
        "d = M[::2]\n",
        "X = np.concatenate([a,b,c,d], axis=1)\n",
        "Y = np.dot(X,W)\n",
        "sigmoid(Y).mean(axis=0).sum()\n",
        "foo(M,W)"
      ],
      "metadata": {
        "id": "YZPxb-4bL9mr",
        "outputId": "112cc07b-8763-4f60-f0cc-7601db2c782d",
        "colab": {
          "base_uri": "https://localhost:8080/"
        }
      },
      "execution_count": 115,
      "outputs": [
        {
          "output_type": "execute_result",
          "data": {
            "text/plain": [
              "np.float64(4.0)"
            ]
          },
          "metadata": {},
          "execution_count": 115
        }
      ]
    },
    {
      "cell_type": "code",
      "source": [],
      "metadata": {
        "id": "dpnNwXCRPBsz"
      },
      "execution_count": null,
      "outputs": []
    }
  ],
  "metadata": {
    "kernelspec": {
      "display_name": "Python 3",
      "language": "python",
      "name": "python3"
    },
    "language_info": {
      "codemirror_mode": {
        "name": "ipython",
        "version": 3
      },
      "file_extension": ".py",
      "mimetype": "text/x-python",
      "name": "python",
      "nbconvert_exporter": "python",
      "pygments_lexer": "ipython3",
      "version": "3.7.6"
    },
    "colab": {
      "provenance": []
    }
  },
  "nbformat": 4,
  "nbformat_minor": 0
}