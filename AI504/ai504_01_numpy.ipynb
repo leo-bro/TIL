{
  "cells": [
    {
      "cell_type": "code",
      "execution_count": 1,
      "metadata": {
        "id": "76vgPM5H9_A3"
      },
      "outputs": [],
      "source": [
        "import numpy as np"
      ]
    },
    {
      "cell_type": "code",
      "execution_count": 2,
      "metadata": {
        "id": "acv7TZrR9_A3"
      },
      "outputs": [],
      "source": [
        "def print_obj(obj, name):\n",
        "    print(\"%s:\\n%s\\n\" % (name, obj))\n",
        "\n",
        "def check_each(a, b):\n",
        "    return (a == b).astype('bool')\n",
        "\n",
        "def check_mean(a, b):\n",
        "    return np.mean(a == b).astype('bool')"
      ]
    },
    {
      "cell_type": "markdown",
      "metadata": {
        "id": "ZN6-I32P9_A3"
      },
      "source": [
        "### Scalars, Vectors, Matrices"
      ]
    },
    {
      "cell_type": "code",
      "execution_count": 5,
      "metadata": {
        "id": "tkslIj3J9_A4"
      },
      "outputs": [],
      "source": [
        "a = np.array(1.)\n",
        "b = np.array([1., 2., 3.])\n",
        "c = np.array([[1., 2., 3.], [4., 5., 6.]])"
      ]
    },
    {
      "cell_type": "code",
      "execution_count": 6,
      "metadata": {
        "colab": {
          "base_uri": "https://localhost:8080/"
        },
        "id": "YMBB4zCT9_A4",
        "outputId": "1d65639b-8be0-477d-c650-28f20b0fb258"
      },
      "outputs": [
        {
          "output_type": "stream",
          "name": "stdout",
          "text": [
            "a:\n",
            "1.0\n",
            "\n",
            "b:\n",
            "[1. 2. 3.]\n",
            "\n",
            "c:\n",
            "[[1. 2. 3.]\n",
            " [4. 5. 6.]]\n",
            "\n"
          ]
        }
      ],
      "source": [
        "print_obj(a, \"a\")\n",
        "print_obj(b, \"b\")\n",
        "print_obj(c, \"c\")"
      ]
    },
    {
      "cell_type": "code",
      "execution_count": 7,
      "metadata": {
        "colab": {
          "base_uri": "https://localhost:8080/"
        },
        "id": "wh5Kdy6Y9_A4",
        "outputId": "050dc17d-db95-444e-e45b-aa0b242e567a"
      },
      "outputs": [
        {
          "output_type": "stream",
          "name": "stdout",
          "text": [
            "a.ndim:\n",
            "0\n",
            "\n",
            "b.ndim:\n",
            "1\n",
            "\n",
            "c.ndim:\n",
            "2\n",
            "\n"
          ]
        }
      ],
      "source": [
        "print_obj(a.ndim, \"a.ndim\")\n",
        "print_obj(b.ndim, \"b.ndim\")\n",
        "print_obj(c.ndim, \"c.ndim\")"
      ]
    },
    {
      "cell_type": "code",
      "execution_count": 8,
      "metadata": {
        "colab": {
          "base_uri": "https://localhost:8080/"
        },
        "id": "tLmxhfhb9_A4",
        "outputId": "5b4a0728-ee53-4452-e705-993455da03e2"
      },
      "outputs": [
        {
          "output_type": "stream",
          "name": "stdout",
          "text": [
            "a.shape:\n",
            "()\n",
            "\n",
            "b.shape:\n",
            "(3,)\n",
            "\n",
            "c.shape:\n",
            "(2, 3)\n",
            "\n"
          ]
        }
      ],
      "source": [
        "print_obj(a.shape, \"a.shape\")\n",
        "print_obj(b.shape, \"b.shape\")\n",
        "print_obj(c.shape, \"c.shape\")"
      ]
    },
    {
      "cell_type": "markdown",
      "metadata": {
        "id": "4GQ3Q2Jh9_A4"
      },
      "source": [
        "### Tensors (N-dimensional array)"
      ]
    },
    {
      "cell_type": "code",
      "execution_count": null,
      "metadata": {
        "id": "dCUSWNqE9_A4"
      },
      "outputs": [],
      "source": [
        "d = np.array([[[1., 2., 3.], [4., 5., 6.]], [[7., 8., 9.], [10., 11., 12.]]])\n",
        "e = np.array([[[[1., 2., 3.], [1., 2., 3.]], [[4., 5., 6.], [4., 5., 6.]]],\n",
        "              [[[7., 8., 9.], [7., 8., 9.]], [[10., 11., 12.], [10., 11., 12.]]]])"
      ]
    },
    {
      "cell_type": "code",
      "execution_count": null,
      "metadata": {
        "id": "YkY8rgw59_A4"
      },
      "outputs": [],
      "source": [
        "print_obj(d, \"d\")\n",
        "print_obj(d.ndim, \"d.ndim\")\n",
        "print_obj(d.shape, \"d.shape\")\n",
        "\n",
        "print_obj(e, \"e\")\n",
        "print_obj(e.ndim, \"e.ndim\")\n",
        "print_obj(e.shape, \"e.shape\")"
      ]
    },
    {
      "cell_type": "code",
      "execution_count": null,
      "metadata": {
        "id": "FLOim-qm9_A4"
      },
      "outputs": [],
      "source": [
        "# Quiz: What is the shape of [[[1], [2], [3]], [[4], [5], [6]]]?"
      ]
    },
    {
      "cell_type": "markdown",
      "metadata": {
        "id": "wbXkV8Du9_A5"
      },
      "source": [
        "### Defining Numpy arrays"
      ]
    },
    {
      "cell_type": "code",
      "execution_count": null,
      "metadata": {
        "id": "yMz0D53K9_A5"
      },
      "outputs": [],
      "source": [
        "a = np.ones(10)\n",
        "a"
      ]
    },
    {
      "cell_type": "code",
      "execution_count": null,
      "metadata": {
        "id": "j50jQi5p9_A5"
      },
      "outputs": [],
      "source": [
        "a = np.zeros((2, 5))\n",
        "a"
      ]
    },
    {
      "cell_type": "code",
      "execution_count": null,
      "metadata": {
        "id": "1bI-TaYe9_A5"
      },
      "outputs": [],
      "source": [
        "a = np.full((2,5), 5)\n",
        "a"
      ]
    },
    {
      "cell_type": "code",
      "execution_count": null,
      "metadata": {
        "id": "u1CIiajh9_A5"
      },
      "outputs": [],
      "source": [
        "a = np.random.random((2, 3, 4))\n",
        "a"
      ]
    },
    {
      "cell_type": "code",
      "execution_count": null,
      "metadata": {
        "id": "q-NiUwgD9_A5"
      },
      "outputs": [],
      "source": [
        "a = np.arange(10)\n",
        "a"
      ]
    },
    {
      "cell_type": "code",
      "execution_count": null,
      "metadata": {
        "id": "TR1nUUdw9_A5"
      },
      "outputs": [],
      "source": [
        "a = np.arange(10).astype(float)\n",
        "a"
      ]
    },
    {
      "cell_type": "code",
      "execution_count": null,
      "metadata": {
        "id": "uthl1VxR9_A5"
      },
      "outputs": [],
      "source": [
        "a = np.arange(10).reshape((5,2))\n",
        "a"
      ]
    },
    {
      "cell_type": "code",
      "execution_count": null,
      "metadata": {
        "id": "zZP0kECC9_A5"
      },
      "outputs": [],
      "source": [
        "# Quiz: Create a 4-by-3-by-2 tensor filled with 0.0 to 23.0"
      ]
    },
    {
      "cell_type": "markdown",
      "metadata": {
        "id": "Hf2dErHw9_A5"
      },
      "source": [
        "### Indexing & Slicing"
      ]
    },
    {
      "cell_type": "code",
      "execution_count": null,
      "metadata": {
        "id": "Vrjoa6Q79_A5"
      },
      "outputs": [],
      "source": [
        "# Indexing and slicing a vector\n",
        "a = np.arange(10)\n",
        "print_obj(a, \"a\")\n",
        "\n",
        "print_obj(a[0], \"a[0]\")\n",
        "print_obj(a[1], \"a[1]\")\n",
        "print_obj(a[-1], \"a[-1]\")\n",
        "print_obj(a[-3], \"a[-3]\")\n",
        "\n",
        "print_obj(a[0:10], \"a[0:10]\")\n",
        "print_obj(a[0:], \"a[0:]\")\n",
        "print_obj(a[:10], \"a[:10]\")\n",
        "print_obj(a[:], \"a[:]\")\n",
        "\n",
        "print_obj(a[7:], \"a[7:]\")\n",
        "print_obj(a[:5], \"a[:5]\")\n",
        "print_obj(a[2:5], \"a[2:5]\")\n",
        "\n",
        "# Quiz: What is a[-4:]?\n",
        "# Quiz: What is a[:-8]?\n",
        "\n",
        "print_obj(a[0:10:2], \"a[0:10:2]\")\n",
        "print_obj(a[0:10:3], \"a[0:10:3]\")\n",
        "print_obj(a[2:6:3], \"a[2:6:3]\")\n",
        "\n",
        "print_obj(a[::-1], \"a[::-1]\")\n",
        "print_obj(a[8:5:-1], \"a[8:5:-1]\")\n",
        "print_obj(a[8:5], \"a[8:5]\")\n",
        "\n",
        "# Quiz: Create [9, 6, 3] using a."
      ]
    },
    {
      "cell_type": "code",
      "execution_count": null,
      "metadata": {
        "id": "V_X1oyQs9_A5"
      },
      "outputs": [],
      "source": [
        "# Indexing a matrix\n",
        "a = np.arange(9).reshape((3,3))\n",
        "print_obj(a, \"a\")\n",
        "print_obj(a[0][0], \"a[0][0]\")\n",
        "print_obj(a[0,0], \"a[0,0]\")\n",
        "print_obj(a[1,1], \"a[1,1]\")\n",
        "\n",
        "# Quiz: How to access the last row?\n",
        "# Quiz: How to access the second column?\n",
        "# Quiz: How to create [8, 5] using a?"
      ]
    },
    {
      "cell_type": "code",
      "execution_count": null,
      "metadata": {
        "id": "5gVYrk4X9_A5"
      },
      "outputs": [],
      "source": [
        "# Indexing and slicing a 3D tensor\n",
        "a = np.arange(4*3*2).reshape((4, 3, 2))\n",
        "print_obj(a, \"a\")\n",
        "print_obj(a[2, 1, 0], \"a[2, 1, 0]\")\n",
        "\n",
        "# Quiz: What would be a[0]?\n",
        "# Quiz: What would be a[0, 1]?\n",
        "# Quiz: Create [[0, 2, 4], [6, 8, 10]]"
      ]
    },
    {
      "cell_type": "code",
      "execution_count": null,
      "metadata": {
        "id": "BUWOeVx59_A5"
      },
      "outputs": [],
      "source": [
        "# Conditional indexing\n",
        "a = np.arange(3*2).reshape((3,2))\n",
        "print_obj(a, \"a\")\n",
        "\n",
        "idx = a % 2 == 0\n",
        "print_obj(idx, \"idx\")\n",
        "\n",
        "# Quiz: How would you create [3, 4, 5] using a?"
      ]
    },
    {
      "cell_type": "code",
      "execution_count": null,
      "metadata": {
        "id": "I3_EQXTw9_A5"
      },
      "outputs": [],
      "source": [
        "# Taking specific elements from a vector\n",
        "a = np.arange(10)\n",
        "idx = [0, 2, 3]\n",
        "print_obj(a[idx], \"a[idx]\")"
      ]
    },
    {
      "cell_type": "code",
      "execution_count": null,
      "metadata": {
        "id": "BmW8baNg9_A5"
      },
      "outputs": [],
      "source": [
        "# Taking specific elements from a tensor\n",
        "a = np.arange(24).reshape((6,4))\n",
        "print_obj(a, \"a\")\n",
        "\n",
        "print_obj(a[:,[0, 2, 3]], \"a[idx]\")\n",
        "print_obj(a[[0, 2, 3], :], \"a[idx]\")\n",
        "#idx = ((0,0,1,5),(1,2,0,3))\n",
        "#print_obj(a[idx], \"tuple indexing\")\n",
        "#idx = np.array([[0,0,1,5],[1,2,0,3]])\n",
        "#print_obj(a[idx], \"ndarray indexing\")"
      ]
    },
    {
      "cell_type": "markdown",
      "metadata": {
        "id": "s8hFvz8g9_A5"
      },
      "source": [
        "### Math Operations"
      ]
    },
    {
      "cell_type": "code",
      "execution_count": null,
      "metadata": {
        "id": "rmWM3tuU9_A5"
      },
      "outputs": [],
      "source": [
        "# Basic operations\n",
        "a = np.arange(6).reshape((3, 2))\n",
        "b = np.ones((3, 2))\n",
        "print_obj(a, \"a\")\n",
        "print_obj(b, \"b\")\n",
        "\n",
        "# +, -, *, /\n",
        "print_obj(a+b, \"a+b\")\n",
        "print_obj(a-b, \"a-b\")\n",
        "print_obj(a*b, \"a*b\")\n",
        "print_obj(a/b, \"a/b\")"
      ]
    },
    {
      "cell_type": "code",
      "execution_count": null,
      "metadata": {
        "id": "tcLjuALF9_A6"
      },
      "outputs": [],
      "source": [
        "# Unary operations\n",
        "a = np.arange(6).reshape((3,2))\n",
        "print_obj(a, \"a\")\n",
        "\n",
        "print_obj(a.sum(), \"a.sum()\")\n",
        "print_obj(a.sum(axis=0), \"a.sum(axis=0)\")\n",
        "print_obj(a.sum(axis=1), \"a.sum(axis=1)\")\n",
        "\n",
        "print_obj(a.mean(), \"a.mean()\")\n",
        "print_obj(a.max(), \"a.max()\")\n",
        "print_obj(a.min(), \"a.min()\")\n",
        "\n",
        "# Quiz: Given a = np.arange(24).reshape((2,3,4)), what is the mean of the sum w.r.t to the last dimension?"
      ]
    },
    {
      "cell_type": "code",
      "execution_count": null,
      "metadata": {
        "id": "xdYDnNpr9_A6"
      },
      "outputs": [],
      "source": [
        "# Vector dot product\n",
        "a = np.arange(3).astype('float')\n",
        "b = np.ones(3)\n",
        "print_obj(a, \"a\")\n",
        "print_obj(b, \"b\")\n",
        "\n",
        "print_obj(np.dot(a, b), \"a dot b\")"
      ]
    },
    {
      "cell_type": "code",
      "execution_count": null,
      "metadata": {
        "id": "mfNjlG2h9_A6"
      },
      "outputs": [],
      "source": [
        "# Matrix dot product, matrix multiplication\n",
        "a = np.arange(6).reshape((3, 2))\n",
        "b = np.ones((2, 3))\n",
        "print_obj(a, \"a\")\n",
        "print_obj(b, \"b\")\n",
        "\n",
        "print_obj(np.dot(a,b), \"a dot b\")\n",
        "print_obj(a@b, \"a @ b\")"
      ]
    },
    {
      "cell_type": "code",
      "execution_count": null,
      "metadata": {
        "id": "jpLnBKsS9_A6"
      },
      "outputs": [],
      "source": [
        "# Tensor dot product, tensor multiplication\n",
        "a = np.arange(24).reshape((4, 3, 2))\n",
        "b = np.ones((4, 2, 3))\n",
        "print_obj(a, \"a\")\n",
        "print_obj(b, \"b\")\n",
        "\n",
        "print_obj(np.dot(a,b).shape, \"a dot b\")\n",
        "print_obj((a@b).shape, \"a @ b\")\n",
        "\n",
        "# Quiz: what would happen if a.shape==(4,3,2) and b.shape==(2,3)?"
      ]
    },
    {
      "cell_type": "markdown",
      "metadata": {
        "id": "GLBLvm7O9_A6"
      },
      "source": [
        "### Shape Manipulation"
      ]
    },
    {
      "cell_type": "code",
      "execution_count": null,
      "metadata": {
        "id": "XCHYvbU59_A6"
      },
      "outputs": [],
      "source": [
        "# Reshapes\n",
        "a = np.arange(24).reshape((2, 3, 4))\n",
        "print_obj(a, \"a\")\n",
        "\n",
        "b = a.reshape((6, 4))\n",
        "print_obj(b, \"b\")\n",
        "\n",
        "c = a.reshape((6, -1))\n",
        "print_obj(c, \"c\")\n",
        "\n",
        "# Quiz: What would d=a.reshape((6, 4, -1)) look like?"
      ]
    },
    {
      "cell_type": "code",
      "execution_count": null,
      "metadata": {
        "id": "KYzHOg6V9_A6"
      },
      "outputs": [],
      "source": [
        "# Adding an extra dimension\n",
        "a = np.arange(3)\n",
        "print_obj(a, \"a\")\n",
        "\n",
        "print_obj(a[:, None], \"a[:, None]\")\n",
        "\n",
        "# Quiz: How to make a = np.ones((3,4)) into shape (3, 1, 1, 4) using reshape and None?"
      ]
    },
    {
      "cell_type": "code",
      "execution_count": null,
      "metadata": {
        "id": "hh-J1Z0p9_A6"
      },
      "outputs": [],
      "source": [
        "# Stack, concatenation\n",
        "a = np.ones((3,2))\n",
        "b = np.zeros((3,2))\n",
        "print_obj(a, \"a\")\n",
        "print_obj(b, \"b\")\n",
        "\n",
        "print_obj(np.vstack([a, b]), \"a,b vstack\")\n",
        "print_obj(np.hstack([a, b]), \"a,b hstack\")\n",
        "print_obj(np.hstack([a, b, a]), \"a,b hstack\")\n",
        "\n",
        "print_obj(np.concatenate([a, b], axis=0), \"a,b concat axis=0\")\n",
        "print_obj(np.concatenate([a, b], axis=1), \"a,b concat axis=1\")\n",
        "\n",
        "# Quiz: Would concatenating two tensors whose shapes are (4, 3, 2) and (5, 4, 2) on axis=2 work?"
      ]
    },
    {
      "cell_type": "code",
      "execution_count": null,
      "metadata": {
        "id": "4XF0oE6Y9_A6"
      },
      "outputs": [],
      "source": [
        "# Matrix transpose\n",
        "a = np.arange(6).reshape((3, 2))\n",
        "print_obj(a, \"a\")\n",
        "\n",
        "print_obj(a.T, \"a.T\")"
      ]
    },
    {
      "cell_type": "code",
      "execution_count": null,
      "metadata": {
        "id": "VYl-hWgn9_A6"
      },
      "outputs": [],
      "source": [
        "# Tensor transpose\n",
        "a = np.arange(24).reshape((4, 3, 2))\n",
        "print_obj(a, \"a\")\n",
        "\n",
        "b = np.transpose(a, [0, 2, 1])\n",
        "print_obj(b, \"Swap axis 1 and 2\")\n",
        "print_obj(b.shape, \"b's shape\")\n",
        "\n",
        "c = np.transpose(a, [1, 0, 2])\n",
        "print_obj(c, \"Swap axis 0 and 1\")\n",
        "print_obj(c.shape, \"c's shape\")"
      ]
    },
    {
      "cell_type": "markdown",
      "metadata": {
        "id": "3VIyr_829_A-"
      },
      "source": [
        "### Broadcasting"
      ]
    },
    {
      "cell_type": "code",
      "execution_count": null,
      "metadata": {
        "id": "fKHKd1J29_A-"
      },
      "outputs": [],
      "source": [
        "# Vector and scalar\n",
        "a = np.arange(3)\n",
        "b = 2.\n",
        "print_obj(a, \"a\")\n",
        "\n",
        "print_obj(a+b, \"a+b\")\n",
        "print_obj(a-b, \"a-b\")\n",
        "print_obj(a*b, \"a*b\")\n",
        "print_obj(a/b, \"a/b\")"
      ]
    },
    {
      "cell_type": "code",
      "execution_count": null,
      "metadata": {
        "id": "RPUIgngI9_A-"
      },
      "outputs": [],
      "source": [
        "# Matrix and vector\n",
        "a = np.arange(6).reshape((3,2))\n",
        "b = np.arange(2).reshape(2) + 1\n",
        "print_obj(a, \"a\")\n",
        "print_obj(b, \"b\")\n",
        "\n",
        "print_obj(a+b, \"a+b\")\n",
        "\n",
        "# Quiz: What would happen if b were np.arange(2).reshape((2, 1))? How about np.arange(2).reshape((1, 2))?"
      ]
    },
    {
      "cell_type": "code",
      "execution_count": null,
      "metadata": {
        "id": "a2zTUJuo9_A-"
      },
      "outputs": [],
      "source": [
        "# Tensor and matrix\n",
        "a = np.arange(12).reshape((2,3,2))\n",
        "b = np.arange(6).reshape((3,2))\n",
        "print_obj(a, \"a\")\n",
        "print_obj(b, \"b\")\n",
        "\n",
        "print_obj(a+b, \"a+b\")\n",
        "\n",
        "#Quiz: How can we use None to do a+b?"
      ]
    },
    {
      "cell_type": "markdown",
      "metadata": {
        "id": "iUGGuQBk9_A-"
      },
      "source": [
        "### Final Quiz"
      ]
    },
    {
      "cell_type": "code",
      "execution_count": null,
      "metadata": {
        "id": "e5EgPxww9_A-"
      },
      "outputs": [],
      "source": [
        "def sigmoid(x):\n",
        "    return 1./(1. + np.exp(-x))\n",
        "\n",
        "# Define a function that, given M of shape (m,n) and W of shape (4n, n), executes the following:\n",
        "# - Take the first half rows of M\n",
        "# - Take the second half rows of M\n",
        "# - Take the odd-numbered rows of M\n",
        "# - Take the even-numbered rows of M\n",
        "# - Append them horizontally in the listed order so that you obtain a matrix X of shape (?, 4n)\n",
        "# - Linearly transform X with W so that you obtain a matrix Y of shape (?, ?)\n",
        "# - Put Y through the sigmoid function\n",
        "# - Obtain the sum of the row-wise mean\n",
        "def foo(M, W):\n",
        "    return 0."
      ]
    }
  ],
  "metadata": {
    "kernelspec": {
      "display_name": "Python 3",
      "language": "python",
      "name": "python3"
    },
    "language_info": {
      "codemirror_mode": {
        "name": "ipython",
        "version": 3
      },
      "file_extension": ".py",
      "mimetype": "text/x-python",
      "name": "python",
      "nbconvert_exporter": "python",
      "pygments_lexer": "ipython3",
      "version": "3.7.6"
    },
    "colab": {
      "provenance": []
    }
  },
  "nbformat": 4,
  "nbformat_minor": 0
}